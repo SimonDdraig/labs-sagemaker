{
 "cells": [
  {
   "cell_type": "markdown",
   "id": "06920b65",
   "metadata": {},
   "source": [
    "\n",
    "# <span style=\"color:DarkSeaGreen\">SageMaker Lab 1</span>\n",
    "\n",
    "This lab does the following:\n",
    "\n",
    "- Provision a HuggingFace model via SageMaker\n",
    "- Create a SageMaker endpoint\n",
    "- Interacts with the model"
   ]
  },
  {
   "cell_type": "markdown",
   "id": "abfb29b8",
   "metadata": {},
   "source": [
    "# <span style=\"color:DarkSeaGreen\">Prepare Your Environment</span>\n",
    "### Requirements for this Jupyter Notebook Lab if running in VSCode or equivalent local IDE\n",
    "##### Note these are macOS specific\n",
    "- Credentials\n",
    "  - You need credentials to your AWS account to execute this Jupyter Lab if running locally from your laptop\n",
    "    - Locally: Credentials and therefore permissions asscociated with the IAM user (with CLI access enabled) are provided by AWS configure connection to your AWS account\n",
    "    - Cloud: Permissions provided via logged in user\n",
    "- Installers:\n",
    "  - Pip\n",
    "    - Python libraries\n",
    "    - Works inside Python envs\n",
    "  - homebrew (brew) (mac)\n",
    "    - System software, tools, and dependencies\n",
    "    - Works at OS level\n",
    "\n",
    "- Run the commands of the cell below in a terminal window to create a virtual environment if you need one\n",
    "  - Note check your Python version first, then if ok, copy the rest and run in terminal window\n",
    "  - Note if you copy and paste the multiple lines and run as one you will get zsh: command not found: # errors because of the comments, but you can ignore\n",
    "  - Remember to restart the kernel to pick up the new venv\n",
    "  - The venv can be deleted via the last cell in this notebook iof no longer needed\n",
    "- If you already have a virtual environment, then just activate it as shown in the second cell below\n",
    "  - Venv (can be created below) used by this notebook is *venv-jumpstart-lab1*"
   ]
  },
  {
   "cell_type": "code",
   "execution_count": null,
   "id": "397e8873",
   "metadata": {
    "vscode": {
     "languageId": "shellscript"
    }
   },
   "outputs": [],
   "source": [
    "# Check your credentials (AWS identity) to confirm you are using the right credentials, can also run in a terminal window if you dont have ipykernel (remove the !)\n",
    "!aws sts get-caller-identity"
   ]
  },
  {
   "cell_type": "code",
   "execution_count": null,
   "id": "27832229",
   "metadata": {
    "vscode": {
     "languageId": "shellscript"
    }
   },
   "outputs": [],
   "source": [
    "### STOP ###\n",
    "### IF USING THIS NOTEBOOK IN A SAGEMAKER JUPYTER NOTEBOOK INSTANCE, THEN SKIP TO THE NEXT CELL ###\n",
    "### OTHERWISE, IF USING VSCODE OR EQUIVALENT LOCAL IDE, THEN CONTINUE BELOW ###\n",
    "### This script is for setting up your environment for the SageMaker Lab 1 ###\n",
    "# do you need to upgrade python first? Your available version of Python is used to create the virtual environment\n",
    "python3 --version\n",
    "\n",
    "### STOP ###\n",
    "### DO YOU NEED TO UPGRADE PYTHON ###\n",
    "# upgrade to the latest version of python if required\n",
    "brew install python\n",
    "# restart vscode to pickup new version of python\n",
    "python3 --version\n",
    "\n",
    "### STOP ###\n",
    "### OK IF YOU HAVE THE CORRECT VERSION OF PYTHON, CONTINUE ###\n",
    "# create a virtual environment\n",
    "python3 -m venv venv-jumpstart-lab1\n",
    "# activate the virtual environment\n",
    "source venv-jumpstart-lab1/bin/activate\n",
    "### COPY TO HERE ONLY IF RUNNING AS ONE COPY AND PASTE ###\n",
    "\n",
    "### STOP ###\n",
    "### MAKE SURE ABOVE VENV GETS ACTIVATED BEFORE RUNNING THE REST ###\n",
    "# upgrade pip\n",
    "pip install --upgrade pip\n",
    "# jupyter kernel support\n",
    "pip install ipykernel\n",
    "# add the virtual environment to jupyter\n",
    "python  -m ipykernel install --user --name=venv-jumpstart-lab1 --display-name \"Python (venv-jumpstart-lab1)\"\n",
    "# install the required packages - may need to specify the path here if not in the correct folder in terminal window\n",
    "pip install -r requirements_lab1.txt\n",
    "# pip install -r Documents/github/labs-sagemaker/jumpstart/etc/requirements_lab1.txt\n",
    "# verify the installation\n",
    "pip list\n",
    "\n",
    "### RESTART VSCODE TO PICKUP THE NEW VENV ###"
   ]
  },
  {
   "cell_type": "code",
   "execution_count": null,
   "id": "5afcb8f1",
   "metadata": {
    "vscode": {
     "languageId": "shellscript"
    }
   },
   "outputs": [],
   "source": [
    "### STOP ###\n",
    "### This command is for activating an environment that already exists, its for use in a terminal window if you need it ###\n",
    "source venv-jumpstart-lab1/bin/activate\n",
    "pip list\n",
    "\n",
    "# use pip freeze if you prefer for requirements.txt freiendly format\n",
    "### ALSO MAKE SURE YOU SELECT IT AS YOUR KERNEL FOR THIS JUPYTER NOTEBOOK ###"
   ]
  },
  {
   "cell_type": "markdown",
   "id": "cfbb8cd5",
   "metadata": {},
   "source": [
    "# Lab 1 Starts Here!"
   ]
  },
  {
   "cell_type": "markdown",
   "id": "cd86ebb0",
   "metadata": {},
   "source": [
    "# <span style=\"color:DarkSeaGreen\">Setup</span>"
   ]
  },
  {
   "cell_type": "code",
   "execution_count": null,
   "id": "40fc3db1",
   "metadata": {},
   "outputs": [],
   "source": [
    "import random\n",
    "\n",
    "# region\n",
    "# for the purpose of this lab, us-east-1, us-west-2, eu-west-1 has the broadest coverage of JumpStart models and instance types\n",
    "# if you provision in other regions, you may not have access to all the models or instance types, and may need to request increase of quotas for endpoint usage for some instance types\n",
    "myRegion='us-east-1'\n",
    "\n",
    "# iam\n",
    "myRoleSageMakerExecution=\"doit-jumpstart-sagemaker-execution-role\"\n",
    "myRoleSageMakerExecutionARN='RETRIEVED FROM ROLE BELOW'\n",
    "\n",
    "# parameter store\n",
    "myParameterStoreChosenModel='doit-jumpstart-sagemaker-chosen-model'\n",
    "myParameterStoreEndpointName='doit-jumpstart-sagemaker-endpoint-name'\n",
    "myParameterStoreIAMARN='doit-jumpstart-sagemaker-iam-arn'\n",
    "\n",
    "# bucket - MUST BE A UNIQUE NAME\n",
    "myBucket='doit-sagemaker-model-bucket-' + str(random.randint(0, 1000)) + '-' + str(random.randint(0, 1000))\n",
    "\n",
    "# AWS Elastic Container Registry (ECR) account that hosts official AWS SageMaker PyTorch containers\n",
    "# 2.1.0-gpu-py310-cu121-ubuntu20.04:\n",
    "# 2.1.0 → PyTorch version 2.1.0\n",
    "# gpu → optimized for GPU inference (includes CUDA)\n",
    "# py310 → Python 3.10\n",
    "# cu121 → CUDA 12.1, matched with GPU drivers\n",
    "# ubuntu20.04 → Linux OS inside the container\n",
    "# NOTE\n",
    "# SageMaker spins up a container from this image on your specified instance (NOT a JumpStart image container - can't use a diffuser with JumpStart)\n",
    "# The container contains PyTorch + CUDA + Python runtime\n",
    "# Then it loads your model artifact (model.tar.gz) into that container\n",
    "# All inference happens inside that container on the GPU/CPU of your instance\n",
    "# When you deploy a model via Model.deploy(), SageMaker pulls this container and runs your model inside it\n",
    "# https://docs.aws.amazon.com/sagemaker/latest/dg/neo-deployment-hosting-services-container-images.html?utm_source=chatgpt.com\n",
    "# aws_ecr_sagemaker_pytorch_container = f\"785573368785.dkr.ecr.{myRegion}.amazonaws.com/pytorch-inference:2.6.0-gpu-py310-cu121-ubuntu20.04\"\n",
    "aws_ecr_sagemaker_pytorch_container=f\"785573368785.dkr.ecr.{myRegion}.amazonaws.com/sagemaker-inference-pytorch:2.0-gpu-py3\"\n",
    "\n",
    "# async endpoint\n",
    "myEndpointConfig='doit-jumpstart-sagemaker-endpoint-config'\n",
    "myEndpointAsync='doit-jumpstart-sagemaker-endpoint-async'\n",
    "myEndpoint='doit-jumpstart-sagemaker-endpoint'\n",
    "\n",
    "print ('Done! Move to the next cell ->')"
   ]
  },
  {
   "cell_type": "code",
   "execution_count": null,
   "id": "7c706918",
   "metadata": {},
   "outputs": [],
   "source": [
    "# local client path for resources\n",
    "myLocalPathForResources='/Users/simondavies/Documents/GitHub/labs-sagemaker/jumpstart/image_upscale/'\n",
    "# jupypter notebook path if notebook is used in AWS for example\n",
    "#myLocalPathForResources='/home/ec2-user/SageMaker/labs-sagemaker/image_upscale/'\n",
    "\n",
    "print ('Done! Move to the next cell ->')"
   ]
  },
  {
   "cell_type": "code",
   "execution_count": null,
   "id": "fb4a28a9",
   "metadata": {},
   "outputs": [],
   "source": [
    "import json\n",
    "import boto3\n",
    "import base64\n",
    "import io\n",
    "import urllib, time\n",
    "from datetime import datetime\n",
    "from certifi import where\n",
    "from PIL import Image\n",
    "from botocore.exceptions import ClientError\n",
    "from sagemaker.session import get_execution_role\n",
    "from sagemaker.session import Session\n",
    "from sagemaker.model import Model\n",
    "from sagemaker.predictor_async import AsyncPredictor\n",
    "botoSession = boto3.Session(region_name=myRegion)\n",
    "\n",
    "# Configure boto3 to use certifi's certificates - helps avoid SSL errors if your system’s certificate store is out of date or missing root certs\n",
    "sts_client = boto3.client('sts', verify=where())\n",
    "myAccountNumber = sts_client.get_caller_identity()[\"Account\"]\n",
    "print(myAccountNumber)\n",
    "print(sts_client.get_caller_identity()[\"Arn\"])\n",
    "\n",
    "# create clients we can use later\n",
    "# iam\n",
    "iam = boto3.client('iam', region_name=myRegion, verify=where())\n",
    "# ssm\n",
    "ssm = boto3.client('ssm', region_name=myRegion, verify=where())\n",
    "# s3\n",
    "s3 = boto3.client('s3', region_name=myRegion, verify=where())\n",
    "# sagemaker\n",
    "sm = boto3.client(\"sagemaker\", region_name=myRegion, verify=where())\n",
    "# sagemaker runtime\n",
    "smr = boto3.client(\"sagemaker-runtime\", region_name=myRegion, verify=where())\n",
    "\n",
    "print ('Done! Move to the next cell ->')"
   ]
  },
  {
   "cell_type": "code",
   "execution_count": null,
   "id": "01b6da1b",
   "metadata": {},
   "outputs": [],
   "source": [
    "# define tags added to all services we create\n",
    "myTags = [\n",
    "    {\"Key\": \"env\", \"Value\": \"non_prod\"},\n",
    "    {\"Key\": \"owner\", \"Value\": \"doit-jumpstart\"},\n",
    "    {\"Key\": \"project\", \"Value\": \"lab1\"},\n",
    "    {\"Key\": \"author\", \"Value\": \"simon\"},\n",
    "]\n",
    "myTagsDct = {\n",
    "    \"env\": \"non_prod\",\n",
    "    \"owner\": \"doit-jumpstart\",\n",
    "    \"project\": \"lab1\",\n",
    "    \"author\": \"simon\",\n",
    "}\n",
    "\n",
    "print ('Done! Move to the next cell ->')"
   ]
  },
  {
   "cell_type": "markdown",
   "id": "cd67085b",
   "metadata": {},
   "source": [
    "# <span style=\"color:DarkSeaGreen\">IAM</span>"
   ]
  },
  {
   "cell_type": "code",
   "execution_count": null,
   "id": "9941d0b5",
   "metadata": {},
   "outputs": [],
   "source": [
    "def getSageMakerExecutionRole():\n",
    "    \"\"\"\n",
    "    Creates a role required for SageMaker to run jobs on your behalf\n",
    "    Only needed if this is being run in a local IDE, not needed if in SageMaker Studio or SageMaker Notebook Instance\n",
    "\n",
    "    Args:\n",
    "        None\n",
    "\n",
    "    Returns:\n",
    "        An IAM execution role ARN\n",
    "    \"\"\"\n",
    "\n",
    "    # trust policy for the role\n",
    "    roleTrust = {\n",
    "        \"Version\": \"2012-10-17\",\n",
    "        \"Statement\": [\n",
    "            {\n",
    "                \"Effect\": \"Allow\",\n",
    "                \"Principal\": {\n",
    "                    \"Service\": \"sagemaker.amazonaws.com\"\n",
    "                },\n",
    "                \"Action\": \"sts:AssumeRole\"\n",
    "            }\n",
    "        ]\n",
    "    }\n",
    "\n",
    "    # check if the role exists\n",
    "    try:\n",
    "        role = iam.get_role(RoleName=myRoleSageMakerExecution)\n",
    "        print(\"Role already exists. Using the existing role.\")\n",
    "        return role['Role']['Arn']\n",
    "    except iam.exceptions.NoSuchEntityException:\n",
    "        print(\"Role does not exist. Creating a new role.\")\n",
    "        \n",
    "    # create execution role for sagemaker - allows SageMaker notebook instances, training jobs, and models to access S3, ECR, and CloudWatch on your behalf\n",
    "    # this role is only created if we are running this notebook in a local ide, if we are in a jupyterlab in sagemaker studio, we dont need it as already created and available\n",
    "    role = iam.create_role(\n",
    "        RoleName=myRoleSageMakerExecution,\n",
    "        AssumeRolePolicyDocument=json.dumps(roleTrust),\n",
    "        Description=\"Service excution role for sagemaker ai use including inside jupyter notebooks\",\n",
    "        Tags=[\n",
    "            *myTags,\n",
    "        ],\n",
    "    )\n",
    "\n",
    "    # attach managed policy to the role AmazonSageMakerFullAccess\n",
    "    iam.attach_role_policy(\n",
    "        RoleName=myRoleSageMakerExecution,\n",
    "        PolicyArn=\"arn:aws:iam::aws:policy/AmazonSageMakerFullAccess\"\n",
    "    )\n",
    "\n",
    "    # store the role arn in parameter store for use in other notebooks\n",
    "    ssm.put_parameter(\n",
    "        Name=myParameterStoreIAMARN,\n",
    "        Description='The ARN of the IAM role used by SageMaker for execution of jobs',\n",
    "        Value=role['Role']['Arn'],\n",
    "        Type='String',\n",
    "        Tags=[\n",
    "            *myTags,\n",
    "        ],\n",
    "    )   \n",
    "\n",
    "    return role['Role']['Arn']"
   ]
  },
  {
   "cell_type": "markdown",
   "id": "708857ff",
   "metadata": {},
   "source": [
    "# <span style=\"color:DarkSeaGreen\">Get Execution Role and Session</span>\n",
    "- SageMaker requires an execution role to assume on your behalf"
   ]
  },
  {
   "cell_type": "code",
   "execution_count": null,
   "id": "80e08fac",
   "metadata": {},
   "outputs": [],
   "source": [
    "try:\n",
    "    # if this is being run in a SageMaker AI JupyterLab Notebook\n",
    "    myRoleSageMakerExecutionARN = get_execution_role()\n",
    "except:\n",
    "    # if this is being run in a local IDE - we need to create our own role\n",
    "    myRoleSageMakerExecutionARN = getSageMakerExecutionRole()\n",
    "\n",
    "# make sure we get a session in the correct region (needed as it can use the aws configure region if running this locally\n",
    "sageMakerSession = Session(boto_session=botoSession)\n",
    "\n",
    "print(myRoleSageMakerExecutionARN)\n",
    "print(sageMakerSession)\n",
    "\n",
    "print ('Done! Move to the next cell ->')"
   ]
  },
  {
   "cell_type": "markdown",
   "id": "aa56ace1",
   "metadata": {},
   "source": [
    "# <span style=\"color:DarkSeaGreen\">Provision a SageMaker Model</span>\n",
    "- Provision a model via a customer inference container\n",
    "- This container is defined in the inference.py file\n",
    "- It allows us to download a HuggingFace model directly, and when used customise the use of the GPU via a diffuser pipeline\n",
    "- JumpStart models have their own containers and do not allow customisation\n",
    "- If you prefer, you can also do this via the SageMaker console, but you will have to bring in the endpoint that you create to continue with this code\n",
    "### Example models to provision\n",
    "- Stable Diffusion x4 upscaler FP16\n",
    "  - https://huggingface.co/stabilityai/stable-diffusion-x4-upscaler/blame/fp16/README.md\n",
    "  - *model_id, model_version = \"model-upscaling-stabilityai-stable-diffusion-x4-upscaler-fp16\", \"*\"*\n",
    "  - upscaling with Stable Diffusion (x4) is computationally expensive\n",
    "    - FP16 means it uses half-precision floating point, so you want a GPU with good Tensor Core\n",
    "  - the x4 upscaler model itself is large\n",
    "    - want ≥ 16 GB VRAM to run comfortably in FP16 for 512×512 → 2048×2048 upscales\n",
    "    - p4d.24xlarge (enterprise-grade, overkill unless you’re batching lots of requests)\n",
    "      - **needs an aws quota increase for this instance for endpoint usage**\n",
    "    - ml.g5.4xlarge\n",
    "      - good for a poc - widely supported, good memory, reasonably costed\n",
    "      - anything smaller and you will likely get CUDA out of memory errors\n",
    "        - you need plenty of GPU memory\n",
    "      - **needs an aws quota increase for this instance for endpoint usage**\n",
    "- see https://aws.amazon.com/sagemaker/ai/pricing/ for pricing, **larger instances can be very expensive per hour**\n",
    "- If you deply the model and you get a quota error, you will need to visit Service Quotas via the console and request an increase\n",
    "  - go to SageMaker service and search for the instance\n",
    "  - select the *model* for endpoint usage\n",
    "  - make sure your quota allows for auto scaling max\n",
    "- DO NOT LEAVE LARGE INSTANCES RUNNING LONGER THAN YOU NEED TO $$$!\n"
   ]
  },
  {
   "cell_type": "markdown",
   "id": "a768bfb0",
   "metadata": {},
   "source": [
    "### Instance Size is Important\n",
    "- We are usinbg a model that upscales\n",
    "- The larger the original image, the more GPU memory is taken when upscaling\n",
    "- Sagemaker typically uses one GPU to do this \n",
    "  - SageMaker model endpoints don’t automatically spread inference across multiple GPUs unless the container is written for it\n",
    "- Stability Diffusion provides a diffuser library \n",
    "  - Breaks the image into smaller patches, processes sequentially, then stitches\n",
    "  - Uses much less VRAM at the cost of a bit more time\n",
    "  - We use that below\n",
    "- p4d.24xlarge has more GPU memory, but maybe an overkill, expensive and won't scale if source images are still too large to upscale in one GPU"
   ]
  },
  {
   "cell_type": "code",
   "execution_count": null,
   "id": "8dde9012",
   "metadata": {},
   "outputs": [],
   "source": [
    "# the instance we want to provision - THIS DISPLAYS AN INPUT BOX FOR YOU TO CHOOSE AN INSTANCE FOR THE MODEL INFERENCE PROVIDED\n",
    "# https://aws.amazon.com/sagemaker/ai/pricing/\n",
    "options = [\n",
    "    \"img2img|stabilityai/stable-diffusion-x4-upscaler|ml.p4d.24xlarge $$$$\",\n",
    "    \"img2img|stabilityai/stable-diffusion-x4-upscaler|ml.g5.12xlarge $$$\",\n",
    "    \"img2img|stabilityai/stable-diffusion-x4-upscaler|ml.p3.2xlarge $$\",\n",
    "]\n",
    "\n",
    "print(\"Select an option:\")\n",
    "for i, opt in enumerate(options, 1):\n",
    "    print(f\"{i}. {opt}\")\n",
    "\n",
    "choice = int(input(\"Enter the number of the spec you want: \"))\n",
    "selected = options[choice - 1]\n",
    "\n",
    "modelType = selected.split(\"|\")[0]\n",
    "modelID = selected.split(\"|\")[1]\n",
    "instanceType = selected.split(\"|\")[2].split(\" \")[0]\n",
    "\n",
    "# store the model in a parameter store for use in other labs\n",
    "ssm.put_parameter(\n",
    "    Name=myParameterStoreChosenModel,\n",
    "    Description='the model chosen in lab1',\n",
    "    Value=selected,\n",
    "    Type='String',\n",
    "    Overwrite=True,\n",
    ")\n",
    "\n",
    "print(f\"You selected: model type {modelType} {modelID} on {instanceType}\")\n",
    "print(f\"Note this model is loaded directly from HuggingFace and NOT JumpStart - this is so we can use the diffuser pipeline\")\n",
    "print(\"Done! Move to the next cell ->\")"
   ]
  },
  {
   "cell_type": "markdown",
   "id": "902367f8",
   "metadata": {},
   "source": [
    "# <span style=\"color:DarkSeaGreen\">Upload inference container to S3</span>\n",
    "- Create an S3 bucket\n",
    "- Upload the tar model (this is already provided in this lab, see inference.py for the code)"
   ]
  },
  {
   "cell_type": "code",
   "execution_count": null,
   "id": "0b31e788",
   "metadata": {},
   "outputs": [],
   "source": [
    "# create bucket\n",
    "if myRegion=='us-east-1':\n",
    "    s3.create_bucket(\n",
    "        Bucket=myBucket\n",
    "    )\n",
    "else:\n",
    "    s3.create_bucket(\n",
    "        Bucket=myBucket, CreateBucketConfiguration={\"LocationConstraint\": myRegion}\n",
    "    )\n",
    "\n",
    "s3.put_bucket_tagging(Bucket=myBucket, Tagging={\"TagSet\": myTags})\n",
    "\n",
    "# create a \"folder\" - really keys as S3 is flat\n",
    "s3.put_object(Bucket=myBucket, Key=\"model/\")\n",
    "print (f'Created the bucket {myBucket}')\n",
    "\n",
    "# Upload each file to the S3 bucket\n",
    "files = [\n",
    "    {\n",
    "        's3key': 'model/model.tar.gz',\n",
    "        'localpath': '{}model.tar.gz'.format(myLocalPathForResources)\n",
    "    }\n",
    "]\n",
    "\n",
    "for file in files:\n",
    "    print ('uploading: {}'.format(file['s3key']))\n",
    "    s3.upload_file(file['localpath'], myBucket, file['s3key'], ExtraArgs={'StorageClass': 'STANDARD'})\n",
    "    print ('uploaded: {}'.format(file['s3key']))\n",
    "\n",
    "print ('Done! Move to the next cell ->')"
   ]
  },
  {
   "cell_type": "markdown",
   "id": "28985330",
   "metadata": {},
   "source": [
    "# <span style=\"color:DarkSeaGreen\">Create Model and Endpoint</span>\n",
    "- Create a model from the container\n",
    "- Create a async endpoint config\n",
    "- Create an endpoint"
   ]
  },
  {
   "cell_type": "code",
   "execution_count": null,
   "id": "c0dffb10",
   "metadata": {},
   "outputs": [],
   "source": [
    "# this cell will create an endpoint for the model and instance type you selected previously\n",
    "# this will take a while (few minutes), as it needs to download the model from huggingface, create the endpoint config and then the endpoint\n",
    "# https://huggingface.co/stabilityai/stable-diffusion-x4-upscaler\n",
    "model = Model(\n",
    "    image_uri=aws_ecr_sagemaker_pytorch_container,\n",
    "    model_data=f\"s3://{myBucket}/model/model.tar.gz\",\n",
    "    entry_point=\"inference.py\",\n",
    "    role=myRoleSageMakerExecutionARN,\n",
    "    sagemaker_session=sageMakerSession,\n",
    ")\n",
    "variantName = \"AllTraffic\"\n",
    "\n",
    "# if we error out, but the model has been registered, delete it so we can try again, otherwise we get lots of redundant model regs\n",
    "try:\n",
    "    # deploy the model to an endpoint\n",
    "    # this will take a while\n",
    "    model.create()\n",
    "    print(\"Done! Move to the next cell ->\")\n",
    "except Exception as e:\n",
    "    print(e)\n",
    "    model.delete_model()"
   ]
  },
  {
   "cell_type": "code",
   "execution_count": null,
   "id": "e5dec457",
   "metadata": {},
   "outputs": [],
   "source": [
    "# create a sagemaker configuration we can use when cteating an endpoint\n",
    "endpointConfig = sm.create_endpoint_config(\n",
    "    EndpointConfigName=myEndpointConfig,\n",
    "    ProductionVariants=[\n",
    "        {\n",
    "            \"VariantName\": variantName,\n",
    "            \"ModelName\": model.name,\n",
    "            \"InstanceType\": instanceType,\n",
    "            \"InitialInstanceCount\": 1,\n",
    "        }\n",
    "    ],\n",
    "    AsyncInferenceConfig={\n",
    "        \"OutputConfig\": {\n",
    "            \"S3OutputPath\": f\"s3://{myBucket}/upscaled-results\",\n",
    "            # Optionally specify Amazon SNS topics\n",
    "            # \"NotificationConfig\": {\n",
    "            # \"SuccessTopic\": \"arn:aws:sns:<aws-region>:<account-id>:<topic-name>\",\n",
    "            # \"ErrorTopic\": \"arn:aws:sns:<aws-region>:<account-id>:<topic-name>\",\n",
    "            # }\n",
    "        },\n",
    "        \"ClientConfig\": {\"MaxConcurrentInvocationsPerInstance\": 4},\n",
    "    },\n",
    ")\n",
    "\n",
    "create_endpoint_response = sm.create_endpoint(\n",
    "    EndpointName=myEndpoint, \n",
    "    EndpointConfigName=myEndpointConfig\n",
    ")\n",
    "\n"
   ]
  },
  {
   "cell_type": "code",
   "execution_count": null,
   "id": "8c662150",
   "metadata": {},
   "outputs": [],
   "source": [
    "waiter = sm.get_waiter(\"endpoint_in_service\")\n",
    "print(\"Waiting for endpoint to create...\")\n",
    "waiter.wait(EndpointName=myEndpoint)\n",
    "resp = sm.describe_endpoint(EndpointName=myEndpoint)\n",
    "print(f\"Endpoint Status: {resp['EndpointStatus']}\")"
   ]
  },
  {
   "cell_type": "code",
   "execution_count": null,
   "id": "583398e7",
   "metadata": {},
   "outputs": [],
   "source": [
    "# store the endpoint name in a parameter store for use in other notebooks\n",
    "ssm.put_parameter(\n",
    "    Name=myParameterStoreEndpointName,\n",
    "    Description='the name of the sagemaker endpoint created in lab1',\n",
    "    Value=myEndpoint,\n",
    "    Type='String',\n",
    "    Overwrite=True,\n",
    ")\n",
    "\n",
    "print ('Done! Move to the next cell ->')"
   ]
  },
  {
   "cell_type": "markdown",
   "id": "de692a79",
   "metadata": {},
   "source": [
    "# <span style=\"color:DarkSeaGreen\">Sample Images</span>\n",
    "- Create a method to display the images\n",
    "- Upload the sample images to S3, when calling the inference via async, it must use the source from S3"
   ]
  },
  {
   "cell_type": "code",
   "execution_count": null,
   "id": "965df58f",
   "metadata": {},
   "outputs": [],
   "source": [
    "# required if an image model is being used\n",
    "def decode_and_show(model_response) -> None:\n",
    "    from PIL import Image\n",
    "    import base64\n",
    "    import io\n",
    "    \n",
    "    image = Image.open(io.BytesIO(base64.b64decode(model_response)))\n",
    "    display(image)\n",
    "    image.close()"
   ]
  },
  {
   "cell_type": "code",
   "execution_count": null,
   "id": "95541581",
   "metadata": {},
   "outputs": [],
   "source": [
    "# Upload each file to the S3 bucket\n",
    "files = [\n",
    "    {\n",
    "        \"s3key\": \"originals/img1_original.jpeg\",\n",
    "        \"localpath\": \"{}/resources/img1_original.jpeg\".format(myLocalPathForResources),\n",
    "    },\n",
    "    {\n",
    "        \"s3key\": \"originals/img2_original.jpeg\",\n",
    "        \"localpath\": \"{}/resources/img2_original.jpeg\".format(myLocalPathForResources),\n",
    "    },\n",
    "]\n",
    "\n",
    "for file in files:\n",
    "    print(\"uploading: {}\".format(file[\"s3key\"]))\n",
    "    s3.upload_file(\n",
    "        file[\"localpath\"],\n",
    "        myBucket,\n",
    "        file[\"s3key\"],\n",
    "        ExtraArgs={\"StorageClass\": \"STANDARD\"},\n",
    "    )\n",
    "    print(\"uploaded: {}\".format(file[\"s3key\"]))\n",
    "\n",
    "print(\"Done! Move to the next cell ->\")"
   ]
  },
  {
   "cell_type": "markdown",
   "id": "d1209d51",
   "metadata": {},
   "source": [
    "# <span style=\"color:DarkSeaGreen\">Invoke the Endpoint</span>\n",
    "- Create a method to display the images\n",
    "- Upload the sample images to S3, when calling the inference via async, it must use the source from S3"
   ]
  },
  {
   "cell_type": "code",
   "execution_count": null,
   "id": "4441caf3",
   "metadata": {},
   "outputs": [],
   "source": [
    "response = smr.invoke_endpoint_async(\n",
    "    EndpointName=myEndpoint,\n",
    "    InputLocation=f\"s3://{myBucket}/originals/img2_original.jpeg\",\n",
    "    InvocationTimeoutSeconds=300,\n",
    ")\n",
    "print(f\"OutputLocation: {response[\"OutputLocation\"]}\")\n",
    "print(f\"Submitted async job: {response[\"InferenceId\"]}\")\n",
    "print(f\"Submitted at {datetime.now()}\")"
   ]
  },
  {
   "cell_type": "code",
   "execution_count": null,
   "id": "f31cd654",
   "metadata": {},
   "outputs": [],
   "source": [
    "# test the endpoint with some example payloads\n",
    "async_predictor = AsyncPredictor(predictor=predictor)\n",
    "\n",
    "# Note that sending or receiving the payload with the raw RGB values may hit default limits for the input payload and the response size\n",
    "# Therefore, we recommend using the base64 encoded image by setting:\n",
    "# content_type = “application/json;jpeg” and accept = “application/json;jpeg”\n",
    "content_type = \"application/json;jpeg\"\n",
    "accept = \"application/json;jpeg\"\n",
    "\n",
    "images = [\n",
    "    \"resources/img1_original.jpeg\",\n",
    "    \"resources/img2_original.jpeg\",\n",
    "]\n",
    "\n",
    "for img in images:\n",
    "    imgOrig = Image.open(img)\n",
    "    # Resize while preserving aspect ratio\n",
    "    max_dim = 512\n",
    "    w, h = imgOrig.size\n",
    "    if w > h:\n",
    "        new_w = max_dim\n",
    "        new_h = int(h * max_dim / w)\n",
    "    else:\n",
    "        new_h = max_dim\n",
    "        new_w = int(w * max_dim / h)\n",
    "\n",
    "    imgSmall = imgOrig.resize((new_w, new_h), Image.LANCZOS)\n",
    "    print (f'Resized the image from (w{w},h{h}) to (w{new_w},h{new_h})')\n",
    "        \n",
    "    # Convert to base64\n",
    "    buffered = io.BytesIO()\n",
    "    imgSmall.save(buffered, format=\"PNG\")\n",
    "    image_b64 = base64.b64encode(buffered.getvalue()).decode(\"utf-8\")\n",
    "\n",
    "    payload = {\n",
    "        \"prompt\": \"highly detailed, realistic photo\",\n",
    "        \"image\": image_b64\n",
    "    }\n",
    "    payload_bytes = json.dumps(payload).encode(\"utf-8\")\n",
    "\n",
    "    # NOTE if you get a 413 error, your original image sizes are probably too large and should be < 6MB\n",
    "    # HTTP 413 Content Too Large (Payload Too Large)\n",
    "    # NOTE if you get a 400 CUDA out of memory error, this indicates that your GPU RAM (Random access memory) is full \n",
    "    # HTTP 400 InternalServerException\n",
    "    # If so, bigger instance with a larger GPU per core, use a diffuser such as below to split the image into batches and restitch once done\n",
    "    print('Starting the inference')\n",
    "    response = async_predictor.predict(\n",
    "        payload_bytes,\n",
    "        {\n",
    "            \"ContentType\": content_type,\n",
    "            \"Accept\": accept,\n",
    "        },\n",
    "    )\n",
    "    decode_and_show(response[\"generated_image\"])\n",
    "\n",
    "print(\"Done! Move to the next cell ->\")"
   ]
  },
  {
   "cell_type": "markdown",
   "id": "0ddfc496",
   "metadata": {},
   "source": [
    "# <span style=\"color:DarkSeaGreen\">Move to Lab 2</span>\n",
    "# <span style=\"color:DarkSeaGreen\">OR...</span>\n",
    "# <span style=\"color:DarkSeaGreen\">Clean Up Architecture</span>\n",
    "### <span style=\"color:Red\">Only do this if you have finished with this lab and any labs that depend on it!</span>\n",
    "##### It will delete all architecture created, make sure you no longer need any of it!!!"
   ]
  },
  {
   "cell_type": "code",
   "execution_count": 21,
   "id": "60e2ecbd",
   "metadata": {},
   "outputs": [
    {
     "name": "stdout",
     "output_type": "stream",
     "text": [
      "InService\n",
      "Endpoint is in service. Proceeding with deletion.\n",
      "Done! Move to the next cell ->\n"
     ]
    }
   ],
   "source": [
    "# when finished with the endpoint, delete it\n",
    "# if you get an error it may still be updating after scaling in from lab 2 or lab 3 locust tests\n",
    "# try again or delete via the console if the config cannot be found\n",
    "# lets check the endpoint status first to make sure its still not changing due to scaling in\n",
    "response = ssm.get_parameter(\n",
    "    Name=myParameterStoreEndpointName\n",
    ")\n",
    "endpointName = response['Parameter']['Value']\n",
    "response = sm.describe_endpoint(EndpointName=endpointName)\n",
    "print(response[\"EndpointStatus\"])\n",
    "\n",
    "if response[\"EndpointStatus\"] == \"InService\":\n",
    "    print(\"Endpoint is in service. Proceeding with deletion.\")\n",
    "    sm.delete_endpoint(EndpointName=endpointName)\n",
    "    print ('Done! Move to the next cell ->')\n",
    "else:\n",
    "    print(\"Endpoint is not in service. Cannot delete. Try again in a couple of minutes.\")"
   ]
  },
  {
   "cell_type": "code",
   "execution_count": 23,
   "id": "1e39c71b",
   "metadata": {},
   "outputs": [
    {
     "name": "stdout",
     "output_type": "stream",
     "text": [
      "Done! Move to the next cell ->\n"
     ]
    }
   ],
   "source": [
    "# delete the model\n",
    "response = sm.delete_model(ModelName=model.name)\n",
    "print ('Done! Move to the next cell ->')"
   ]
  },
  {
   "cell_type": "code",
   "execution_count": null,
   "id": "605cac63",
   "metadata": {},
   "outputs": [],
   "source": [
    "# delete the endpoint config\n",
    "response = sm.delete_endpoint_config(EndpointConfigName=myEndpointConfig)\n",
    "print ('Done! Move to the next cell ->')"
   ]
  },
  {
   "cell_type": "code",
   "execution_count": 25,
   "id": "4ced04ff",
   "metadata": {},
   "outputs": [
    {
     "name": "stdout",
     "output_type": "stream",
     "text": [
      "Done! Move to the next cell ->\n"
     ]
    }
   ],
   "source": [
    "# delete roles and policies\n",
    "iam.detach_role_policy(\n",
    "    RoleName=myRoleSageMakerExecution, PolicyArn='arn:aws:iam::aws:policy/AmazonSageMakerFullAccess'\n",
    ")\n",
    "iam.delete_role(RoleName=myRoleSageMakerExecution)\n",
    "print ('Done! Move to the next cell ->')"
   ]
  },
  {
   "cell_type": "code",
   "execution_count": 26,
   "id": "aa145c9f",
   "metadata": {},
   "outputs": [
    {
     "name": "stdout",
     "output_type": "stream",
     "text": [
      "Done! Move to the next cell ->\n"
     ]
    }
   ],
   "source": [
    "# delete the parameter store entry\n",
    "ssm.delete_parameter(Name=myParameterStoreChosenModel)\n",
    "ssm.delete_parameter(Name=myParameterStoreEndpointName)\n",
    "ssm.delete_parameter(Name=myParameterStoreIAMARN)\n",
    "print ('Done! Move to the next cell ->')"
   ]
  },
  {
   "cell_type": "code",
   "execution_count": 27,
   "id": "7ae02853",
   "metadata": {},
   "outputs": [
    {
     "name": "stdout",
     "output_type": "stream",
     "text": [
      "Done! Move to the next cell ->\n"
     ]
    }
   ],
   "source": [
    "# delete s3 bucket\n",
    "# NOTE WARNING - this will delete all objects in the bucket with NO prompt or confirmation\n",
    "s3r = boto3.resource('s3', region_name=myRegion, verify=where())\n",
    "bucket = s3r.Bucket(myBucket)\n",
    "bucket.objects.all().delete()\n",
    "\n",
    "# delete the bucket\n",
    "response = s3.delete_bucket(Bucket=myBucket)\n",
    "print ('Done! Move to the next cell ->')"
   ]
  },
  {
   "cell_type": "markdown",
   "id": "a05607d8",
   "metadata": {},
   "source": [
    "# <span style=\"color:DarkSeaGreen\">Clean Up venv</span>\n",
    "### Clean up if finished with this lab and running in VSCode or equivalent local IDE\n",
    "#### Note these are macOS specific\n",
    "- Run the commands of the cell below in a terminal window if you need to clean up a local venv\n",
    "  - Note if you copy and paste the entire cell and run as one you will get zsh: command not found: # errors because of the comments, but you can ignore\n",
    "  - Remember to restart the kernel to refresh whats available"
   ]
  },
  {
   "cell_type": "code",
   "execution_count": null,
   "id": "89229fe8",
   "metadata": {
    "vscode": {
     "languageId": "shellscript"
    }
   },
   "outputs": [],
   "source": [
    "# if you have local host in your terminal prompt\n",
    "unset HOST\n",
    "# deactivate the venv\n",
    "deactivate \n",
    "# remove it and its contents if not needed\n",
    "rm -rf venv-jumpstart-lab1 "
   ]
  }
 ],
 "metadata": {
  "kernelspec": {
   "display_name": "venv-jumpstart-lab1 (3.13.7)",
   "language": "python",
   "name": "python3"
  },
  "language_info": {
   "codemirror_mode": {
    "name": "ipython",
    "version": 3
   },
   "file_extension": ".py",
   "mimetype": "text/x-python",
   "name": "python",
   "nbconvert_exporter": "python",
   "pygments_lexer": "ipython3",
   "version": "3.13.7"
  }
 },
 "nbformat": 4,
 "nbformat_minor": 5
}
